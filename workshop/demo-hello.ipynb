{
 "cells": [
  {
   "cell_type": "markdown",
   "metadata": {},
   "source": [
    "# Graphcore PyTorch Demo\n",
    "## Festival of Digital Research and Scholarship - June 2024\n",
    "\n",
    "Leader: James Legg - UCL Centre for Advanced Research Computing\n",
    "\n",
    "Machines: Graphcore POD16 IPU\n",
    "- Main - mandelbrot.rc.ucl.ac.uk\n",
    "- Backup - fibonacci.rc.ucl.ac.uk\n",
    "___"
   ]
  },
  {
   "cell_type": "markdown",
   "metadata": {
    "vscode": {
     "languageId": "plaintext"
    }
   },
   "source": [
    "## Client programs\n",
    "\n",
    "We shall be using a terminal program to do the initial install and, preferably, Visual Studio Code (VSCode) to run the Jupyter notebooks of the demo. Any terminal will do, even the basic Windows Command Pompt (cmd). Please install VSCode on your laptop. If you are unable, you can use the VSCode from Desktop@UCL (type \"code\" in the search box).\n",
    "___"
   ]
  },
  {
   "cell_type": "markdown",
   "metadata": {},
   "source": [
    "## Getting started\n",
    "### Logging in \n",
    "In a terminal:\n",
    "\n",
    "Check login: `ssh <uclid>@mandelbrot.rc.ucl.ac.uk`\n",
    "\n",
    "(Workshop is on campus so no vpn or ssh gateway should be required.)\n",
    "\n",
    "If you want to set up key access then that is fine; similarly, adding an entry to your ssh config file is fine. \n",
    "___"
   ]
  },
  {
   "cell_type": "markdown",
   "metadata": {},
   "source": [
    "### Working directory\n",
    "You should get a prompt and a home directory will be created for you. However, we shall be working on another disk and I have made each user a directory `/data/<uclid>`.\n",
    "\n",
    "`cd /data/<uclid>` \n",
    "\n",
    "### Workshop repo\n",
    "Get the Github repository for this workshop:  \n",
    "`git clone https://github.com/UCL-ARC/graphcore-pytorch-cifar-conversion-example.git`\n",
    "\n",
    "`cd graphcore-pytorch-cifar-conversion-example`\n",
    "___"
   ]
  },
  {
   "cell_type": "markdown",
   "metadata": {},
   "source": [
    "### Grapcore software - we will start here on the day\n",
    "We are generally following the example at  [From PyTorch to PopTorch](https://docs.graphcore.ai/projects/poptorch-user-guide/en/latest/pytorch_to_poptorch.html#from-pytorch-to-poptorch)  \n",
    "with some setup details at [Installation](https://docs.graphcore.ai/projects/poptorch-user-guide/en/latest/pytorch_to_poptorch.html#from-pytorch-to-poptorch)\n",
    "\n",
    "So - we are using Graphcore's _Poplar SDK version 3.2.0_, which is already present on the machine. To activate this in any bash session, do\n",
    "\n",
    "`source /opt/graphcore/poplar_sdk-3.2.0/enable`\n",
    "\n",
    "If you are using VSCode, as you probably are, then put that commnand in your `~/.bashrc`, so that it is available to Python notebooks etc. running inside VSCode.\n",
    "\n",
    "Install Graphcore's python packages into the repo, so:\n",
    "\n",
    "```\n",
    "python -m venv graphcoreenv\n",
    "source graphcoreenv/bin/activate\n",
    "pip install /opt/graphcore/poplar_sdk-3.2.0/poptorch-3.2.0+109947_bb50ce43ab_rhel_8-cp39-cp39-linux_x86_64.whl\n",
    "pip list\n",
    "```\n",
    "\n",
    "May need this as well, as we are using torchvision\n",
    "\n",
    "`pip install torchvision==0.14.1+cpu torchaudio==0.13.1 --extra-index-url https://download.pytorch.org/whl/cpu`\n",
    "\n",
    "And a set of common dependencies, at versions that worked when this demo was written!\n",
    "\n",
    "`pip install -r requirements.txt`\n",
    "\n",
    "\n",
    "#### A test: gc-monitor\n",
    "\n",
    "The `gc-monitor` command shows which accelerators are available and which processes are running on them. (It is very similar to `nvidia-smi` for their GPUs)\n",
    "___"
   ]
  },
  {
   "cell_type": "markdown",
   "metadata": {},
   "source": [
    "### Jupyter Notebook in VSCode (or, contingency, WebBrowser) \n",
    "\n",
    "_VSCode_:\n",
    "- add the `source /opt/graphcore/poplar_sdk-3.2.0/enable` to `.bashrc` mandelbrot (use a terminal and ssh to get there),\n",
    "- install vscode extensions for remote development, python and jupyter,\n",
    "- log into mandelbrot with the VSCode remote extension, \n",
    "- choose the directory `/data/<uclid>/graphcore-pytorch-cifar-conversion-example`\n",
    "- select the python interpreter from the environment `graphcoreenv'\n",
    "\n",
    "Or, contingency, _ssh_ tunnel to remote jupyter notebook server on mandelbrot:\n",
    "```\n",
    "# login with port tunnelling for a browser\n",
    "ssh -L <port>:localhost:<port> <uclid>@mandelbrot.rc.ucl.ac.uk  # <port> =  8081, 8082, 8083, 8084 different per user (`netstat -tunpl` to see ports in use)\n",
    "\n",
    "# start the notebook server on mandelbrot\n",
    "jupyter notebook --no-browser --port <port>  \n",
    "\n",
    "# and in a browser on your laptop \n",
    " http://localhost:<port>/tree?token=<token advised by jupyter server on mandelbrot>\n",
    " \n",
    "# you should get the jupyter file explorer\n",
    "```\n",
    "\n",
    "_Both_: navigate to this file (workshop/demo-hello.ipynb)\n",
    "\n",
    "#### VSCode Extenstions and Python Selection    \n",
    "\n",
    "- _Extension:_ MS Python\n",
    "- _Extension:_ MS Jupyter \n",
    "- _VSCode menu:_ Python: Select Interpreter - .graphcoreenv/bin/python\n",
    "- _VSCode select kernel button:_  Python Environments... - .graphcoreenv/bin/python\n",
    "\n",
    "#### Clearing processes from IPU\n",
    "\n",
    "Processes on the Graphcore IPU, as my be seen with the `gc-monitor` command, are lauched by the Python kernel, which persists and so do the processes on the IPU. To clear them, to free up the IPUs for other users, reset the Jupter notebook kernel with the button at the top of the notebook window.\n",
    "\n",
    "___"
   ]
  },
  {
   "cell_type": "markdown",
   "metadata": {},
   "source": [
    "## Refs\n",
    "\n",
    "- Training a Classifier — PyTorch Tutorials 2.3.0+cu121 documentation\n",
    "https://pytorch.org/tutorials/beginner/blitz/cifar10_tutorial.html?highlight=cifar\n",
    "pytorch.org\n",
    "\n",
    "\n",
    "- Switching from GPUs to IPUs for Machine Learning Models — Switching from GPUs to IPUs for Machine Learning Models\n",
    "https://docs.graphcore.ai/projects/differences-ipu-gpu/en/latest/index.html\n",
    "docs.graphcore.ai\n",
    "\n",
    "\n",
    "- 3. From PyTorch to PopTorch — PyTorch for the IPU: User Guide\n",
    "https://docs.graphcore.ai/projects/poptorch-user-guide/en/latest/pytorch_to_poptorch.html?highlight=pytorch#the-training-loop\n",
    "docs.graphcore.ai\n",
    "\n",
    "\n",
    "- 2.1. Introduction to PopTorch - running a simple model — Tutorials\n",
    "https://docs.graphcore.ai/projects/tutorials/en/latest/pytorch/basics/README.html#build-the-model\n",
    "docs.graphcore.ai\n",
    "\n",
    "\n",
    "- 3. From PyTorch to PopTorch — PyTorch for the IPU: User Guide\n",
    "https://docs.graphcore.ai/projects/poptorch-user-guide/en/latest/pytorch_to_poptorch.html?highlight=pytorch%20to%20poptorch#training\n",
    "docs.graphcore.ai\n"
   ]
  }
 ],
 "metadata": {
  "kernelspec": {
   "display_name": "cifar",
   "language": "python",
   "name": "python3"
  },
  "language_info": {
   "name": "python",
   "version": "3.9.16"
  }
 },
 "nbformat": 4,
 "nbformat_minor": 2
}
